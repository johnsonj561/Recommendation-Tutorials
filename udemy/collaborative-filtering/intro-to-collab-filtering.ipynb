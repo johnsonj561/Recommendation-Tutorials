{
 "cells": [
  {
   "cell_type": "markdown",
   "metadata": {},
   "source": [
    "# Collaborative Filtering Intro\n",
    "\n",
    "General Idea: rank items based on their score"
   ]
  },
  {
   "cell_type": "markdown",
   "metadata": {},
   "source": [
    "## Average Rating\n",
    "\n",
    "Basic approach for computing item scores is taking the average. Sum up all of the ratings for item j and divide by the total number of ratings.\n",
    "\n",
    "$$s(j) = \\text{score for item j} = \\frac{\\sum_{i \\in \\Omega_j}{r_{ij}}}{\\mid \\Omega_j \\mid}$$\n",
    "\n",
    "$$\\Omega_j = \\text{set of all users that have rated item j}$$\n",
    "\n",
    "$$r_{ij} = \\text{rating user i gave to item j}$$\n",
    "\n",
    "But this isn't personalized. We can do better!"
   ]
  },
  {
   "cell_type": "markdown",
   "metadata": {},
   "source": [
    "## Personalizing Item Scores\n",
    "\n",
    "Item score should depend on both user *i* and item *j*.\n",
    "\n",
    "*i'* is just in index for iterating over the ratings for item *j*. \n",
    "\n",
    "$$s(i,j) = \\frac{\\sum_{i' \\in \\Omega_j}{r_{i'j}}}{\\mid \\Omega_j \\mid}$$\n",
    "\n",
    "$$i = 1 \\dots N, N = \\text{number of users}$$\n",
    "\n",
    "$$j = 1 \\dots M, M = \\text{number of items}$$\n",
    "\n",
    "$$R_{N \\times M} = \\text{user-item ratings matrix}$$"
   ]
  },
  {
   "cell_type": "markdown",
   "metadata": {},
   "source": [
    "![alt text](images/user-item-matrix.png)"
   ]
  },
  {
   "cell_type": "markdown",
   "metadata": {},
   "source": [
    "The user-item matrix is very similar to the term-document matrix from NLP.\n",
    "\n",
    "Many of the techniques used in collaborative filtering are analogous to NLP techniques, e.g. Matrix Factorization and SVD."
   ]
  },
  {
   "cell_type": "markdown",
   "metadata": {},
   "source": [
    "### Sparsity\n",
    "\n",
    "Many of the entires in R are empty because users only rate or interact with a small subset of items.\n",
    "\n",
    "This is actually good. If users have already tried all items, then we would have nothing to recommend them!"
   ]
  },
  {
   "cell_type": "markdown",
   "metadata": {},
   "source": [
    "### Goal of Collaborative Filtering\n",
    "\n",
    "To predict scores for items not yet seen by a user.\n",
    "\n",
    "$$s(i,j) = \\hat{r}(i,j) = \\text{predicted score for user i and item j}$$\n",
    "\n",
    "We can then suggest the items not yet seen with highest predicted score."
   ]
  },
  {
   "cell_type": "markdown",
   "metadata": {},
   "source": [
    "### Evaluating Models\n",
    "\n",
    "Since scores are continuous, we will be using regression techniques.\n",
    "\n",
    "Mean-squared error (MSE) is popular error metric for regression.\n",
    "\n",
    "$$MSE = \\frac{1}{\\mid \\Omega \\mid} \\sum_{i,j \\in \\Omega}{(r_{ij} - \\hat{r}_{ij})^2}$$\n",
    "\n",
    "$$\\Omega = \\text{set of (i,j) pairs where user i has rated item j}$$"
   ]
  }
 ],
 "metadata": {
  "kernelspec": {
   "display_name": "Python 3",
   "language": "python",
   "name": "python3"
  },
  "language_info": {
   "codemirror_mode": {
    "name": "ipython",
    "version": 3
   },
   "file_extension": ".py",
   "mimetype": "text/x-python",
   "name": "python",
   "nbconvert_exporter": "python",
   "pygments_lexer": "ipython3",
   "version": "3.6.9"
  }
 },
 "nbformat": 4,
 "nbformat_minor": 4
}
