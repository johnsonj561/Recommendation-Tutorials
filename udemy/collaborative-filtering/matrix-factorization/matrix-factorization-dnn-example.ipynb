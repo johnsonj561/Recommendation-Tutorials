{
 "cells": [
  {
   "cell_type": "markdown",
   "metadata": {},
   "source": [
    "## Matrix Factorization with Deep Neural Networks\n",
    "\n",
    "In this example, we concatenate the learned User and Item embeddings and flatten them into a vector.\n",
    "\n",
    "This vector is then fed to a DNN model with 400 hidden neurons.\n",
    "\n",
    "A single sigmoid output neuron produces a continuous outputs and SGD optimizes weights to minimize MSE.\n",
    "\n",
    "In this example, we only run for 5 epochs to ensure that it's working as expected. I suggest running on GPU if training for 20+ epochs."
   ]
  },
  {
   "cell_type": "code",
   "execution_count": 9,
   "metadata": {},
   "outputs": [],
   "source": [
    "import numpy as np\n",
    "import pandas as pd\n",
    "import matplotlib.pyplot as plt\n",
    "from sklearn.utils import shuffle\n",
    "\n",
    "import tensorflow as tf\n",
    "Model = tf.keras.models.Model\n",
    "Layers = tf.keras.layers\n",
    "Input, Dense, Embedding = Layers.Input, Layers.Dense, Layers.Embedding\n",
    "Concatenate, Flatten, Activation = Layers.Concatenate, Layers.Flatten, Layers.Activation\n",
    "Dropout, BatchNorm = Layers.Dropout, Layers.BatchNormalization\n",
    "l2 = tf.keras.regularizers.l2\n",
    "SGD, Adam = tf.keras.optimizers.SGD, tf.keras.optimizers.Adam"
   ]
  },
  {
   "cell_type": "markdown",
   "metadata": {},
   "source": [
    "## Load Data"
   ]
  },
  {
   "cell_type": "code",
   "execution_count": 2,
   "metadata": {},
   "outputs": [],
   "source": [
    "df = pd.read_csv('../../data/movielens/edited_rating.csv')"
   ]
  },
  {
   "cell_type": "code",
   "execution_count": 3,
   "metadata": {},
   "outputs": [],
   "source": [
    "N = df.userId.max() + 1\n",
    "M = df.movie_idx.max() + 1"
   ]
  },
  {
   "cell_type": "markdown",
   "metadata": {},
   "source": [
    "## Create Train/Test"
   ]
  },
  {
   "cell_type": "code",
   "execution_count": 4,
   "metadata": {},
   "outputs": [],
   "source": [
    "df = shuffle(df)\n",
    "cutoff = int(0.8 * len(df))\n",
    "df_train = df.iloc[:cutoff]\n",
    "df_test = df.iloc[cutoff:]"
   ]
  },
  {
   "cell_type": "markdown",
   "metadata": {},
   "source": [
    "## Initialize Params"
   ]
  },
  {
   "cell_type": "code",
   "execution_count": 5,
   "metadata": {},
   "outputs": [],
   "source": [
    "K = 10\n",
    "mu = df_train.rating.mean()\n",
    "epochs = 5\n",
    "reg_penalty = 0"
   ]
  },
  {
   "cell_type": "markdown",
   "metadata": {},
   "source": [
    "## Define Model"
   ]
  },
  {
   "cell_type": "code",
   "execution_count": 10,
   "metadata": {},
   "outputs": [
    {
     "name": "stdout",
     "output_type": "stream",
     "text": [
      "__________________________________________________________________________________________________\n",
      "Layer (type)                    Output Shape         Param #     Connected to                     \n",
      "==================================================================================================\n",
      "input_5 (InputLayer)            (None, 1)            0                                            \n",
      "__________________________________________________________________________________________________\n",
      "input_6 (InputLayer)            (None, 1)            0                                            \n",
      "__________________________________________________________________________________________________\n",
      "embedding_4 (Embedding)         (None, 1, 10)        1384930     input_5[0][0]                    \n",
      "__________________________________________________________________________________________________\n",
      "embedding_5 (Embedding)         (None, 1, 10)        267440      input_6[0][0]                    \n",
      "__________________________________________________________________________________________________\n",
      "flatten_4 (Flatten)             (None, 10)           0           embedding_4[0][0]                \n",
      "__________________________________________________________________________________________________\n",
      "flatten_5 (Flatten)             (None, 10)           0           embedding_5[0][0]                \n",
      "__________________________________________________________________________________________________\n",
      "concatenate_2 (Concatenate)     (None, 20)           0           flatten_4[0][0]                  \n",
      "                                                                 flatten_5[0][0]                  \n",
      "__________________________________________________________________________________________________\n",
      "dense_1 (Dense)                 (None, 400)          8400        concatenate_2[0][0]              \n",
      "__________________________________________________________________________________________________\n",
      "activation (Activation)         (None, 400)          0           dense_1[0][0]                    \n",
      "__________________________________________________________________________________________________\n",
      "dense_2 (Dense)                 (None, 1)            401         activation[0][0]                 \n",
      "==================================================================================================\n",
      "Total params: 1,661,171\n",
      "Trainable params: 1,661,171\n",
      "Non-trainable params: 0\n",
      "__________________________________________________________________________________________________\n"
     ]
    }
   ],
   "source": [
    "# user and movie inputs (batchsize, 1)\n",
    "u = Input(shape=(1,))\n",
    "m = Input(shape=(1,))\n",
    "\n",
    "# user embedding (N, 1, K) \n",
    "u_embedding = Embedding(N, K, embeddings_regularizer=l2(reg_penalty))(u)\n",
    "# flat user embedding (N, K)\n",
    "u_embedding = Flatten()(u_embedding) \n",
    "\n",
    "# movie embedding (N, 1, K)\n",
    "m_embedding = Embedding(M, K, embeddings_regularizer=l2(reg_penalty))(m)\n",
    "# flat movie embedding (N, K)\n",
    "m_embedding = Flatten()(m_embedding)\n",
    "\n",
    "# concat embeddings to feed into DNN (N, 2K)\n",
    "x = Concatenate()([u_embedding, m_embedding])\n",
    "\n",
    "x = Dense(400)(x)\n",
    "x = Activation('relu')(x)\n",
    "x = Dense(1)(x)\n",
    "\n",
    "model = Model(inputs=[u, m], outputs=x)\n",
    "model.summary()"
   ]
  },
  {
   "cell_type": "markdown",
   "metadata": {},
   "source": [
    "## Compile Model"
   ]
  },
  {
   "cell_type": "code",
   "execution_count": 11,
   "metadata": {},
   "outputs": [],
   "source": [
    "model.compile(\n",
    "    loss='mse',\n",
    "    optimizer=SGD(lr=0.01, momentum=0.9),\n",
    "    metrics=['mse']\n",
    ")"
   ]
  },
  {
   "cell_type": "markdown",
   "metadata": {},
   "source": [
    "## Train Model"
   ]
  },
  {
   "cell_type": "code",
   "execution_count": 12,
   "metadata": {},
   "outputs": [
    {
     "name": "stderr",
     "output_type": "stream",
     "text": [
      "/Users/jujohnson/anaconda3/envs/tf.latest/lib/python3.6/site-packages/tensorflow/python/ops/gradients_impl.py:108: UserWarning: Converting sparse IndexedSlices to a dense Tensor of unknown shape. This may consume a large amount of memory.\n",
      "  \"Converting sparse IndexedSlices to a dense Tensor of unknown shape. \"\n"
     ]
    },
    {
     "name": "stdout",
     "output_type": "stream",
     "text": [
      "Train on 16000210 samples, validate on 4000053 samples\n",
      "Epoch 1/5\n",
      "16000210/16000210 [==============================] - 1422s 89us/step - loss: 0.9140 - mean_squared_error: 0.9140 - val_loss: 0.8606 - val_mean_squared_error: 0.8606\n",
      "Epoch 2/5\n",
      "16000210/16000210 [==============================] - 1411s 88us/step - loss: 0.8309 - mean_squared_error: 0.8309 - val_loss: 0.8070 - val_mean_squared_error: 0.8070\n",
      "Epoch 3/5\n",
      "16000210/16000210 [==============================] - 1430s 89us/step - loss: 0.7884 - mean_squared_error: 0.7884 - val_loss: 0.7743 - val_mean_squared_error: 0.7743\n",
      "Epoch 4/5\n",
      "16000210/16000210 [==============================] - 1443s 90us/step - loss: 0.7649 - mean_squared_error: 0.7649 - val_loss: 0.7606 - val_mean_squared_error: 0.7606\n",
      "Epoch 5/5\n",
      "16000210/16000210 [==============================] - 1432s 89us/step - loss: 0.7523 - mean_squared_error: 0.7523 - val_loss: 0.7512 - val_mean_squared_error: 0.7512\n"
     ]
    }
   ],
   "source": [
    "r = model.fit(\n",
    "    x=[df_train.userId.values, df_train.movie_idx.values],\n",
    "    y=df_train.rating.values - mu,\n",
    "    epochs=epochs,\n",
    "    batch_size=128,\n",
    "    validation_data=(\n",
    "        [df_test.userId.values, df_test.movie_idx.values],\n",
    "        df_test.rating.values - mu\n",
    "    )\n",
    ")"
   ]
  },
  {
   "cell_type": "markdown",
   "metadata": {},
   "source": [
    "## Plot Results"
   ]
  },
  {
   "cell_type": "code",
   "execution_count": 13,
   "metadata": {},
   "outputs": [
    {
     "data": {
      "image/png": "[encoded data removed]",
      "text/plain": [
       "<Figure size 432x288 with 1 Axes>"
      ]
     },
     "metadata": {
      "needs_background": "light"
     },
     "output_type": "display_data"
    }
   ],
   "source": [
    "# plot loss\n",
    "plt.plot(r.history['loss'], label='train loss')\n",
    "plt.plot(r.history['val_loss'], label='test loss')\n",
    "plt.legend()\n",
    "plt.show()"
   ]
  },
  {
   "cell_type": "code",
   "execution_count": 14,
   "metadata": {},
   "outputs": [
    {
     "data": {
      "image/png": "[encoded data removed]",
      "text/plain": [
       "<Figure size 432x288 with 1 Axes>"
      ]
     },
     "metadata": {
      "needs_background": "light"
     },
     "output_type": "display_data"
    }
   ],
   "source": [
    "# plot mse\n",
    "plt.plot(r.history['mean_squared_error'], label='train mse')\n",
    "plt.plot(r.history['val_mean_squared_error'], label='test mse')\n",
    "plt.legend()\n",
    "plt.show()"
   ]
  },
  {
   "cell_type": "code",
   "execution_count": null,
   "metadata": {},
   "outputs": [],
   "source": []
  }
 ],
 "metadata": {
  "kernelspec": {
   "display_name": "Python 3",
   "language": "python",
   "name": "python3"
  },
  "language_info": {
   "codemirror_mode": {
    "name": "ipython",
    "version": 3
   },
   "file_extension": ".py",
   "mimetype": "text/x-python",
   "name": "python",
   "nbconvert_exporter": "python",
   "pygments_lexer": "ipython3",
   "version": "3.6.9"
  }
 },
 "nbformat": 4,
 "nbformat_minor": 4
}
