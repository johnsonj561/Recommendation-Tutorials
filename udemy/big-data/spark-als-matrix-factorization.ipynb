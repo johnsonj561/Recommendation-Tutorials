{
 "cells": [
  {
   "cell_type": "code",
   "execution_count": 1,
   "metadata": {},
   "outputs": [],
   "source": [
    "import findspark\n",
    "findspark.init()\n",
    "import pyspark\n",
    "from pyspark.sql import SparkSession\n",
    "from pyspark.mllib.recommendation import ALS, MatrixFactorizationModel, Rating"
   ]
  },
  {
   "cell_type": "markdown",
   "metadata": {},
   "source": [
    "## Init Spark Session"
   ]
  },
  {
   "cell_type": "code",
   "execution_count": 2,
   "metadata": {},
   "outputs": [],
   "source": [
    "spark = SparkSession.builder\\\n",
    "    .appName('movie-recs')\\\n",
    "    .master('local[8]')\\\n",
    "    .getOrCreate()"
   ]
  },
  {
   "cell_type": "markdown",
   "metadata": {},
   "source": [
    "## Load Data"
   ]
  },
  {
   "cell_type": "code",
   "execution_count": 3,
   "metadata": {},
   "outputs": [
    {
     "name": "stdout",
     "output_type": "stream",
     "text": [
      "CPU times: user 1.5 ms, sys: 1.23 ms, total: 2.73 ms\n",
      "Wall time: 3.35 s\n"
     ]
    }
   ],
   "source": [
    "%%time\n",
    "df = spark.read \\\n",
    "    .option(\"header\", \"true\") \\\n",
    "    .format(\"csv\")\\\n",
    "    .load('../data/movielens/small_rating.csv')"
   ]
  },
  {
   "cell_type": "markdown",
   "metadata": {},
   "source": [
    "## Convert Data to Ratings Objects"
   ]
  },
  {
   "cell_type": "code",
   "execution_count": 4,
   "metadata": {},
   "outputs": [],
   "source": [
    "ratings = df.rdd\\\n",
    "    .map(lambda l: Rating(int(l[0]), int(l[1]), float(l[2])))"
   ]
  },
  {
   "cell_type": "markdown",
   "metadata": {},
   "source": [
    "## Create Train / Test Partitions"
   ]
  },
  {
   "cell_type": "code",
   "execution_count": 5,
   "metadata": {},
   "outputs": [],
   "source": [
    "train, test = ratings.randomSplit([0.8, 0.2])"
   ]
  },
  {
   "cell_type": "markdown",
   "metadata": {},
   "source": [
    "## Train Model"
   ]
  },
  {
   "cell_type": "code",
   "execution_count": 6,
   "metadata": {},
   "outputs": [
    {
     "name": "stdout",
     "output_type": "stream",
     "text": [
      "CPU times: user 31.3 ms, sys: 9.6 ms, total: 40.9 ms\n",
      "Wall time: 14.1 s\n"
     ]
    }
   ],
   "source": [
    "%%time\n",
    "K = 10\n",
    "epochs = 10\n",
    "model = ALS.train(train, K, epochs)"
   ]
  },
  {
   "cell_type": "markdown",
   "metadata": {},
   "source": [
    "## View and Evaluate Training Results"
   ]
  },
  {
   "cell_type": "code",
   "execution_count": 15,
   "metadata": {},
   "outputs": [
    {
     "name": "stdout",
     "output_type": "stream",
     "text": [
      "CPU times: user 16.8 ms, sys: 3.81 ms, total: 20.6 ms\n",
      "Wall time: 7.36 s\n"
     ]
    }
   ],
   "source": [
    "%%time\n",
    "\n",
    "# get training set predictions\n",
    "x = train.map(lambda p: (p[0], p[1]))\n",
    "predictions = model.predictAll(x)\\\n",
    "    .map(lambda r: ((r[0], r[1]), r[2]))"
   ]
  },
  {
   "cell_type": "code",
   "execution_count": 16,
   "metadata": {},
   "outputs": [
    {
     "name": "stdout",
     "output_type": "stream",
     "text": [
      "CPU times: user 23.8 ms, sys: 4.7 ms, total: 28.5 ms\n",
      "Wall time: 47.3 ms\n"
     ]
    }
   ],
   "source": [
    "%%time\n",
    "\n",
    "# join ratings and predictions\n",
    "ratingsAndPredictions = train\\\n",
    "    .map(lambda r: ((r[0], r[1]), r[2]))\\\n",
    "    .join(predictions)"
   ]
  },
  {
   "cell_type": "code",
   "execution_count": 47,
   "metadata": {},
   "outputs": [
    {
     "name": "stdout",
     "output_type": "stream",
     "text": [
      "Training Set Results\n",
      "(userId, movieId), (rating, predicted rating)\n",
      "[((3863, 587), (4.0, 4.093021125404596)), ((3863, 1179), (2.0, 3.211821122362567)), ((3863, 1963), (4.0, 3.2659414993180413)), ((4473, 165), (5.0, 3.771323971371701)), ((4473, 1221), (5.0, 5.183301033514477))]\n"
     ]
    }
   ],
   "source": [
    "print('Training Set Results')\n",
    "print('(userId, movieId), (rating, predicted rating)')\n",
    "print(ratingsAndPredictions.take(5))"
   ]
  },
  {
   "cell_type": "code",
   "execution_count": 18,
   "metadata": {},
   "outputs": [
    {
     "name": "stdout",
     "output_type": "stream",
     "text": [
      "Train MSE: 0.5135299416479703\n",
      "CPU times: user 14.9 ms, sys: 3.77 ms, total: 18.7 ms\n",
      "Wall time: 7.63 s\n"
     ]
    }
   ],
   "source": [
    "%%time\n",
    "\n",
    "# compute MSE\n",
    "mse = ratingsAndPredictions\\\n",
    "    .map(lambda r: (r[1][0] - r[1][1])**2)\\\n",
    "    .mean()\n",
    "\n",
    "print(f'Train MSE: {mse}')"
   ]
  },
  {
   "cell_type": "markdown",
   "metadata": {},
   "source": [
    "## View and Evaluate Test Results"
   ]
  },
  {
   "cell_type": "code",
   "execution_count": 21,
   "metadata": {},
   "outputs": [
    {
     "name": "stdout",
     "output_type": "stream",
     "text": [
      "CPU times: user 18 ms, sys: 3.91 ms, total: 21.9 ms\n",
      "Wall time: 6.69 s\n"
     ]
    }
   ],
   "source": [
    "%%time\n",
    "\n",
    "# get test set predictions\n",
    "x = test.map(lambda p: (p[0], p[1]))\n",
    "predictions = model.predictAll(x)\\\n",
    "    .map(lambda r: ((r[0], r[1]), r[2]))"
   ]
  },
  {
   "cell_type": "code",
   "execution_count": 24,
   "metadata": {},
   "outputs": [
    {
     "name": "stdout",
     "output_type": "stream",
     "text": [
      "CPU times: user 55.6 ms, sys: 7.35 ms, total: 62.9 ms\n",
      "Wall time: 82.2 ms\n"
     ]
    }
   ],
   "source": [
    "%%time\n",
    "\n",
    "# join ratings and predictions\n",
    "ratingsAndPredictions = test\\\n",
    "    .map(lambda r: ((r[0], r[1]), r[2]))\\\n",
    "    .join(predictions)"
   ]
  },
  {
   "cell_type": "code",
   "execution_count": 25,
   "metadata": {},
   "outputs": [
    {
     "name": "stdout",
     "output_type": "stream",
     "text": [
      "Test Set Results\n",
      "(userId, movieId), (rating, predicted rating)\n"
     ]
    },
    {
     "data": {
      "text/plain": [
       "[((3863, 587), (4.0, 4.093021125404596)),\n",
       " ((3863, 1179), (2.0, 3.211821122362567)),\n",
       " ((3863, 1963), (4.0, 3.2659414993180413)),\n",
       " ((4473, 165), (5.0, 3.771323971371701)),\n",
       " ((4473, 1221), (5.0, 5.183301033514477))]"
      ]
     },
     "execution_count": 25,
     "metadata": {},
     "output_type": "execute_result"
    }
   ],
   "source": [
    "print('Test Set Results')\n",
    "print('(userId, movieId), (rating, predicted rating)')\n",
    "ratingsAndPredictions.take(5)"
   ]
  },
  {
   "cell_type": "code",
   "execution_count": 26,
   "metadata": {},
   "outputs": [
    {
     "name": "stdout",
     "output_type": "stream",
     "text": [
      "Test MSE: 0.5435640108472513\n",
      "CPU times: user 17.6 ms, sys: 4.04 ms, total: 21.6 ms\n",
      "Wall time: 1.83 s\n"
     ]
    }
   ],
   "source": [
    "%%time\n",
    "\n",
    "# compute MSE\n",
    "mse = ratingsAndPredictions\\\n",
    "    .map(lambda r: (r[1][0] - r[1][1])**2)\\\n",
    "    .mean()\n",
    "\n",
    "print(f'Test MSE: {mse}')"
   ]
  },
  {
   "cell_type": "markdown",
   "metadata": {},
   "source": [
    "## Viewing Matrix Factors\n",
    "\n",
    "We can use these as features to compute user and product similarity scores."
   ]
  },
  {
   "cell_type": "code",
   "execution_count": 31,
   "metadata": {},
   "outputs": [
    {
     "name": "stdout",
     "output_type": "stream",
     "text": [
      "Viewing user features\n"
     ]
    },
    {
     "data": {
      "text/plain": [
       "[(0,\n",
       "  array('d', [-2.4913628101348877, -1.0777480602264404, -0.06278830766677856, 2.0980241298675537, -0.38235652446746826, -2.6224629878997803, -0.6706669926643372, -2.9868948459625244, -0.9448479413986206, 0.812681257724762])),\n",
       " (8,\n",
       "  array('d', [-2.2169198989868164, -0.927251935005188, -0.18451672792434692, 1.1308958530426025, -0.17926691472530365, -2.0334668159484863, -0.8369787931442261, -2.349142074584961, -0.6834691762924194, 0.7411922812461853]))]"
      ]
     },
     "execution_count": 31,
     "metadata": {},
     "output_type": "execute_result"
    }
   ],
   "source": [
    "print('Viewing user features')\n",
    "model.userFeatures().take(2)"
   ]
  },
  {
   "cell_type": "code",
   "execution_count": 33,
   "metadata": {},
   "outputs": [
    {
     "name": "stdout",
     "output_type": "stream",
     "text": [
      "Viewing product features\n"
     ]
    },
    {
     "data": {
      "text/plain": [
       "[(16,\n",
       "  array('d', [-0.2612162232398987, 0.12512777745723724, -0.34570401906967163, 0.5759508013725281, 0.1746082305908203, -0.3501777648925781, -0.42493462562561035, -0.13120533525943756, -0.06286771595478058, 0.5467106103897095])),\n",
       " (24,\n",
       "  array('d', [-0.941043496131897, 0.10615763813257217, 0.023559004068374634, -0.1536172777414322, 0.366079181432724, -0.403524786233902, -0.21307744085788727, -0.14883272349834442, -0.10264371335506439, -0.49082833528518677]))]"
      ]
     },
     "execution_count": 33,
     "metadata": {},
     "output_type": "execute_result"
    }
   ],
   "source": [
    "print('Viewing product features')\n",
    "model.productFeatures().take(2)"
   ]
  },
  {
   "cell_type": "markdown",
   "metadata": {},
   "source": [
    "## Providing Recommendations\n",
    "\n",
    "We can recommend products for a user, or we can recommend users for a product."
   ]
  },
  {
   "cell_type": "code",
   "execution_count": 36,
   "metadata": {},
   "outputs": [
    {
     "name": "stdout",
     "output_type": "stream",
     "text": [
      "Get predictions for a user\n",
      "CPU times: user 16.4 ms, sys: 5.27 ms, total: 21.7 ms\n",
      "Wall time: 892 ms\n"
     ]
    },
    {
     "data": {
      "text/plain": [
       "[(1216,\n",
       "  (Rating(user=1216, product=858, rating=4.901110195490002),\n",
       "   Rating(user=1216, product=923, rating=4.8403610191065685),\n",
       "   Rating(user=1216, product=1221, rating=4.8033667997240705),\n",
       "   Rating(user=1216, product=912, rating=4.785329111734935),\n",
       "   Rating(user=1216, product=3435, rating=4.688967017411553))),\n",
       " (1792,\n",
       "  (Rating(user=1792, product=527, rating=4.848774796557304),\n",
       "   Rating(user=1792, product=2028, rating=4.704430416639492),\n",
       "   Rating(user=1792, product=110, rating=4.687931326691416),\n",
       "   Rating(user=1792, product=318, rating=4.673595787945411),\n",
       "   Rating(user=1792, product=590, rating=4.639922203396457)))]"
      ]
     },
     "execution_count": 36,
     "metadata": {},
     "output_type": "execute_result"
    }
   ],
   "source": [
    "%%time\n",
    "\n",
    "print('Get predictions for a user')\n",
    "model.recommendProductsForUsers(5).take(2)"
   ]
  },
  {
   "cell_type": "code",
   "execution_count": 38,
   "metadata": {},
   "outputs": [
    {
     "name": "stdout",
     "output_type": "stream",
     "text": [
      "Find users for each product\n",
      "CPU times: user 18 ms, sys: 5.4 ms, total: 23.4 ms\n",
      "Wall time: 668 ms\n"
     ]
    },
    {
     "data": {
      "text/plain": [
       "[(1792,\n",
       "  (Rating(user=1961, product=1792, rating=4.872198813556538),\n",
       "   Rating(user=2075, product=1792, rating=4.816083509739068),\n",
       "   Rating(user=4175, product=1792, rating=4.705379786300854),\n",
       "   Rating(user=4813, product=1792, rating=4.638693434038025),\n",
       "   Rating(user=2725, product=1792, rating=4.517412254094975))),\n",
       " (2688,\n",
       "  (Rating(user=4175, product=2688, rating=4.64147204543725),\n",
       "   Rating(user=1961, product=2688, rating=4.618057090882778),\n",
       "   Rating(user=2075, product=2688, rating=4.527792554720106),\n",
       "   Rating(user=2725, product=2688, rating=4.5079718659408545),\n",
       "   Rating(user=3573, product=2688, rating=4.472822290011315)))]"
      ]
     },
     "execution_count": 38,
     "metadata": {},
     "output_type": "execute_result"
    }
   ],
   "source": [
    "%%time\n",
    "\n",
    "print('Find users for each product')\n",
    "model.recommendUsersForProducts(5).take(2)"
   ]
  },
  {
   "cell_type": "markdown",
   "metadata": {},
   "source": [
    "## Save Model For Later"
   ]
  },
  {
   "cell_type": "code",
   "execution_count": 46,
   "metadata": {},
   "outputs": [],
   "source": [
    "model.save(spark.sparkContext, path='als-mf-model1')"
   ]
  },
  {
   "cell_type": "code",
   "execution_count": null,
   "metadata": {},
   "outputs": [],
   "source": []
  }
 ],
 "metadata": {
  "kernelspec": {
   "display_name": "Python 3",
   "language": "python",
   "name": "python3"
  },
  "language_info": {
   "codemirror_mode": {
    "name": "ipython",
    "version": 3
   },
   "file_extension": ".py",
   "mimetype": "text/x-python",
   "name": "python",
   "nbconvert_exporter": "python",
   "pygments_lexer": "ipython3",
   "version": "3.6.9"
  }
 },
 "nbformat": 4,
 "nbformat_minor": 4
}
