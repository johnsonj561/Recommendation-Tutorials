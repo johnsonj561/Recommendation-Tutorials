{
 "cells": [
  {
   "cell_type": "markdown",
   "metadata": {},
   "source": [
    "## Working with Big Data\n",
    "\n",
    "Put simply, Big Data generally refers to any data that requires distributed storage or distributed compute.\n",
    "\n",
    "Many academia, Big Data is often classified using the 5Vs of Big Data:\n",
    "- Volume\n",
    "- Velocity\n",
    "- Variety\n",
    "- Veracity\n",
    "- Value\n",
    "\n",
    "### Examples Include\n",
    "\n",
    "#### Netflix\n",
    "- 100 M users\n",
    "- 500 K movies\n",
    "\n",
    "#### YouTube\n",
    "- 1.8 B users\n",
    "- 7B videos\n",
    "- unique because M > N"
   ]
  },
  {
   "cell_type": "markdown",
   "metadata": {},
   "source": [
    "## Distributed Computing\n",
    "\n",
    "We can store and operate on large data by distributing it over many machines.\n",
    "\n",
    "This concept was first popularized by Google's MapReduce in early 2000s.\n",
    "\n",
    "Yahoo later open sourced the MapReduce framework, leading to Apache Hadoop.\n",
    "\n",
    "Apache Spark extends Hadoop and allows for more efficient compute with in memory operations.\n",
    "\n",
    "These frameworks provide APIs that distribute jobs over a cluster of machines, allowing us to scale up to any data set size required."
   ]
  },
  {
   "cell_type": "markdown",
   "metadata": {},
   "source": [
    "## Distributed Matrix Factorization\n",
    "\n",
    "In this section, we will use Spark's built in Matrix Factorization to train a model on 20 M user-movie ratings in the cloud."
   ]
  },
  {
   "cell_type": "code",
   "execution_count": 3,
   "metadata": {},
   "outputs": [],
   "source": []
  },
  {
   "cell_type": "code",
   "execution_count": null,
   "metadata": {},
   "outputs": [],
   "source": []
  }
 ],
 "metadata": {
  "kernelspec": {
   "display_name": "Python 3",
   "language": "python",
   "name": "python3"
  },
  "language_info": {
   "codemirror_mode": {
    "name": "ipython",
    "version": 3
   },
   "file_extension": ".py",
   "mimetype": "text/x-python",
   "name": "python",
   "nbconvert_exporter": "python",
   "pygments_lexer": "ipython3",
   "version": "3.6.9"
  }
 },
 "nbformat": 4,
 "nbformat_minor": 4
}
