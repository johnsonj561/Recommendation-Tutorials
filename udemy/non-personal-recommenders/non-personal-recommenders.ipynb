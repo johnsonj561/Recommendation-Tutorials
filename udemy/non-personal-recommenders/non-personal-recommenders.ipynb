{
 "cells": [
  {
   "cell_type": "markdown",
   "metadata": {},
   "source": [
    "# Non-Personal Recommendation Techniques"
   ]
  },
  {
   "cell_type": "markdown",
   "metadata": {},
   "source": [
    "- We don't always know our user's preferences, e.g. new users\n",
    "- We can user patterns from the populations behavior to make suggestions\n",
    "- In many examples, no machine learning is required"
   ]
  },
  {
   "cell_type": "markdown",
   "metadata": {},
   "source": [
    "## Popularity Ranking\n",
    "\n",
    "- other people really liked it, so you probably will too\n",
    "\n",
    "### Challenges\n",
    "\n",
    "- McDonald's is popular, should we recommend that? Probably not\n",
    "- top 40 music is popular, but many people won't like it\n",
    "- age can be an important factor to consider, we should usually consider this\n",
    "- news from last week is popular, but we don't want to see old news"
   ]
  },
  {
   "cell_type": "markdown",
   "metadata": {},
   "source": [
    "## Affinity Analysis\n",
    "\n",
    "- also known as Association Rule mining, identifying Frequent Item Sets, or Market Basket analysis\n",
    "- technique is used for making \"context-based\" recommendations\n",
    "- if you're buying an iPhone, you might also want an iPhone case\n",
    "\n",
    "### Conditional Probability\n",
    "\n",
    "- compute the probability of purchasing item A given context of item B\n",
    "- this will lead to many false positives, we need to be smarter\n",
    "\n",
    "$$P(A \\mid B) = \\frac{count(A,B)}{count(B)}$$\n",
    "\n",
    "### Lift\n",
    "\n",
    "- in association rule mining, a Lift score is the performance ratio of a target model divided by a random choice or default model\n",
    "- Lift can also be used for context-based recommendations\n",
    "- the Lift score increases (> 1) when buying one item (B) makes buying another item (A) more likely\n",
    "\n",
    "$$Lift = \\frac{p(A,B)}{p(A)p(B)} = \\frac{p(A \\mid B)}{p(A)} = \\frac{p(B \\mid A)}{p(B)}$$"
   ]
  },
  {
   "cell_type": "markdown",
   "metadata": {},
   "source": [
    "## Hacker News - Popularity Over Time\n",
    "\n",
    "$$score = \\frac{(upvotes - downvotes - 1)^{0.8}}{(age + 2)^{gravity}} \\times penalty$$\n",
    "\n",
    "- Hacker News ranking considers up votes, down votes, age, and penalties\n",
    "- numerator is a measure of article popularity\n",
    "- sublinear numerator (exponent < 1) because\n",
    "    - age must overpower popularity over time\n",
    "    - first 100 votes should carry more meaning than 1000-1100 votes\n",
    "    - very few articles make up most of the votes, and many articles have just a few votes\n",
    "- penalty terms include self-posts, controversial posts, etc"
   ]
  },
  {
   "cell_type": "code",
   "execution_count": 20,
   "metadata": {},
   "outputs": [
    {
     "data": {
      "image/png": "[encoded data removed]",
      "text/plain": [
       "<Figure size 432x288 with 1 Axes>"
      ]
     },
     "metadata": {
      "needs_background": "light"
     },
     "output_type": "display_data"
    }
   ],
   "source": [
    "import numpy as np\n",
    "import matplotlib.pyplot as plt\n",
    "\n",
    "x = np.arange(0, 100, 1)\n",
    "y = x ** 0.8\n",
    "plt.plot(x, y)\n",
    "plt.ylim(0, 100)\n",
    "plt.title('Sublinear Popularity Score');"
   ]
  },
  {
   "cell_type": "markdown",
   "metadata": {},
   "source": [
    "## Average Rating Ranking"
   ]
  },
  {
   "cell_type": "markdown",
   "metadata": {},
   "source": [
    "- average item ratings is the easiest way to score items\n",
    "\n",
    "### Challenges\n",
    "\n",
    "- not always as simple as upvotes and downvotes, e.g. 5 star systems\n",
    "- some items have very few ratings, i.e. confidence of average is low\n",
    "\n",
    "### Using Confidence Intervals\n",
    "\n",
    "$$95\\% CI = (\\bar{X} +- z_{score}\\frac{s}{\\sqrt{N}})$$\n",
    "\n",
    "- as total number of ratings increases, estimated averaged approaches the expected rating\n",
    "- compute the confidence interval for an item's rating and use the lower bound\n",
    "- popularity will increase score by creating tighter confidence intervals, i.e. higher lower bounds"
   ]
  },
  {
   "cell_type": "markdown",
   "metadata": {},
   "source": [
    "### Problems with Average Ratings\n",
    "\n",
    "- 5 star ratings can leverage Wilson's interval\n",
    "- we can convert each possible rating to a upvote and downvote percentage, e.g. 0 star is 1 downvote 0 upvote, 3 star is 0.5 downvote and 0.5 upvote, and 5 star is 0 downvotes and 1 upvote\n",
    "- what if there are 0 ratings? We need to use smoothing to prevent divide by 0\n",
    "- Laplace smoothing is common solution, also used in NLP\n",
    "- this allows us to obtain smooth transition as number of voters increases\n"
   ]
  },
  {
   "cell_type": "markdown",
   "metadata": {},
   "source": [
    "### Explore-Exploit Dilemma\n",
    "\n",
    "- if you're at casino and there is row of slot machines, you can't tell which one is the best, you must play them to see which one has best rewards\n",
    "- you need to calculate the win rate for each slot machine to determine which one to play (exploit)\n",
    "- how many times should you play each slot machine (explore)?\n",
    "  - if you play too few, your estimate will have large confidence interval\n",
    "  - if you play too many, you are missing opportunity to explore other machines"
   ]
  },
  {
   "cell_type": "markdown",
   "metadata": {},
   "source": [
    "- explore-exploit is faced when recommending items to users, and exploration is needed to encourage new, novel items\n",
    "- exploring too much runs the risk of bad recommendations, but not exploring can be a bad user experience"
   ]
  },
  {
   "cell_type": "markdown",
   "metadata": {},
   "source": [
    "## Bayesian Methods for the Explore-Exploit Challenge\n",
    "\n",
    "AKA Bayesian Bandits\n",
    "\n",
    "- we want to know the probability that a user will click on a recommendation\n",
    "- can be applied to AB testing, Ad clicks, selecting stocks, etc\n",
    "- we can draw recommendations from beta distributions and update these distributions with the customer feedback\n",
    "- this allows for easy online learning\n",
    "\n",
    "### Beta Distribution\n",
    "\n",
    "A continuous probability distribution defined on [0,1] with 2 parameters, $\\alpha$ and $\\beta$.\n",
    "\n",
    "$$\\text{Beta PDF} = f(x;\\alpha,\\beta) = \\frac{x^{\\alpha-1}(1-x)^{\\beta-1}}{B(\\alpha, \\beta)}$$\n",
    "\n",
    "When $\\alpha=1$ and $\\beta=1$, the beta distribution is equivalent to uniform distribution.\n",
    "\n",
    "### Bayes Theorem\n",
    "\n",
    "$$p(H \\mid D) = \\frac{p(H)p(D\\mid H)}{p(D)}$$\n",
    "$$p(H \\mid D) = posterior$$\n",
    "$$p(H) = \\text{prior, our belief before observing evidence}$$\n",
    "$$p(D \\mid H) = \\text{likelihood of seeing evidence D if hypothesis H is correct}$$\n",
    "$$p(D) = \\text{likelihood of evidence under any circumstance, normalizing factor}$$"
   ]
  },
  {
   "cell_type": "markdown",
   "metadata": {},
   "source": [
    "### Strategy\n",
    "\n",
    "In the beginning, we don't have prior beliefs because we have not observed anything. So we start with $\\alpha=1$ and $\\beta=1$, i.e. all items have uniform, or equal probability.\n",
    "\n",
    "1. Sample random variable from each of 3 asset's beta distributions.\n",
    "2. Select the maximum random variable and show it to our user.\n",
    "3. Determine feedback on item, e.g. user click.\n",
    "4. Update the prior for selected item using feedback from (3).\n",
    "5. Repeat."
   ]
  },
  {
   "cell_type": "markdown",
   "metadata": {},
   "source": [
    "### Posterior Over Time\n",
    "\n",
    "Posteriors converge on expected value as we receive feedback from users.\n",
    "\n",
    "![alt text](./images/bayesian-methods.png)"
   ]
  },
  {
   "cell_type": "markdown",
   "metadata": {},
   "source": [
    "### Ranking with Bayesian Methods\n",
    "\n",
    "- ranking scores is non-deterministic, we must sample from the posterior beta distributions\n",
    "- by sampling, ranking is intelligently random\n",
    "- this encourages *exploration*"
   ]
  },
  {
   "cell_type": "markdown",
   "metadata": {},
   "source": [
    "### Bayesian Bandits Example Code\n",
    "\n",
    "[See bayesian-bandits notebook](./bayesian-bandits-code.ipynb)"
   ]
  },
  {
   "cell_type": "markdown",
   "metadata": {},
   "source": [
    "## Supervised Learning"
   ]
  },
  {
   "cell_type": "markdown",
   "metadata": {},
   "source": [
    "### Demographic-Based Learners\n",
    "- we can try to predict various targets using simple learning algorithms\n",
    "    - did user buy product?\n",
    "    - click on ad?\n",
    "    - click on article?\n",
    "    - sign up for newsletter?\n",
    "    - make an accountt?\n",
    "    - what rating did they give an item?\n",
    "- common demographic features include\n",
    "    - age, gender, religion, location, race, occupation\n",
    "    - education level, marital status, socio-economic status\n",
    "- other data from site\n",
    "    - date/location of sign up\n",
    "    - device type, mobile?\n",
    "    - page views\n",
    "    - credit card history\n",
    "    - purchase history\n",
    "- can purchase data\n",
    "    - Acxiom\n",
    "    - Intelius"
   ]
  },
  {
   "cell_type": "markdown",
   "metadata": {},
   "source": [
    "### How to Incorporate Product Data\n",
    "\n",
    "- above list includes only user features, how do we include product features?\n",
    "- can create a separate model for each item, but will not scale to many products\n",
    "- can add some product feature flags to the user feature vector and feed to model"
   ]
  },
  {
   "cell_type": "markdown",
   "metadata": {},
   "source": [
    "### Latent Variable Models\n",
    "\n",
    "- instead of explicit user features like age, gender, etc., we can learn implicit features\n",
    "- these learnes features are not as interpretable, but they are mathematically optimal and yield better results\n",
    "- this means we don't have to feature engineer features, saves time\n"
   ]
  },
  {
   "cell_type": "markdown",
   "metadata": {},
   "source": [
    "## Page Rank\n",
    "\n",
    "The Page Rank of a page is the probability that a user would end up on a page if they surfed the Internet randomly for an infinite amount of time.\n",
    "\n",
    "Page Rank is just a score, and it can be applied to various recommender systems."
   ]
  },
  {
   "cell_type": "markdown",
   "metadata": {},
   "source": [
    "### Markov Models\n",
    "\n",
    "- Markov Model finds $x_t$ given $x_{t-1}$\n",
    "- [Visual explanations of MMs](https://setosa.io/ev/markov-chains/)"
   ]
  },
  {
   "cell_type": "markdown",
   "metadata": {},
   "source": [
    "- similar to bigrams in NLP - building a probabilistic language model that allows prediction of next word given current word\n",
    "    - what is probability of \"cats\" given \"love\" P(cats | love)\n",
    "- bigrams only consider 2 words at a time, which is limited, and more advanced language models use DNN models with recurrent and attention layers\n",
    "- instead of thinking about each item as a word, we think of it as a state $x(t)$\n",
    "- $x(t)$ only depends on $x_{t-1}$\n",
    "\n",
    "$$p(x_t \\mid x_{t-1}, x_{t-2}, \\dots, x_1) = p(x_t \\mid x_{t-1})$$\n"
   ]
  },
  {
   "cell_type": "markdown",
   "metadata": {},
   "source": [
    "- the **Transition* Probability Matrix A** defines the probability of transitioning from state *j* to state *i*\n",
    "- valid probabilities - rows of the matrix must sum up to 1\n",
    "- AKA as stochastic matrix or Markov matrix\n",
    "\n",
    "$$A(i,j) = p(x_t = j \\mid x_{t-1} = i)$$"
   ]
  },
  {
   "cell_type": "markdown",
   "metadata": {},
   "source": [
    "- how to calculate probabilities in transition matrix?\n",
    "\n",
    "$$p(rainy \\mid sunny) = \\frac{count(sunny \\rightarrow rainy)}{count(sunny)}$$\n",
    "\n",
    "- can use this method to calculate the probability of observing a sentence \"the quick brown fox jumps over the lazy dog\"\n",
    "\n",
    "$$p(the)p(quick \\mid the)p(brown \\mid quick) \\dots$$\n",
    "$$p(x_1, \\dots, x_T) = p(x_1) \\prod_{t=2}^{T}{p(x_t \\mid x_{t-1})}$$\n",
    "\n"
   ]
  },
  {
   "cell_type": "markdown",
   "metadata": {},
   "source": [
    "- what if the test set contains a bigram that never occurs in the training data?\n",
    "- this *zero* probability will produce a 0 probability due to multiplication\n",
    "- therefore, we use add-1 smoothinng to prevent 0s in below equation, where V is equal to the total number of states\n",
    "\n",
    "$$p(x_t \\mid x_{t-1}) = \\frac{count(i \\rightarrow j) + 1}{count(i) + V}$$"
   ]
  },
  {
   "cell_type": "markdown",
   "metadata": {},
   "source": [
    "- **state distribution** $\\pi$ is the probability of being in a state at a given time\n",
    "- Example: if there are 2 possible states, sunny and rainy, $\\pi(t)$ will be a vector of size 2 $[p(x_t = sunny),p(x_t = rainy)]$\n",
    "- we can calculate $\\pi(t+1)$ using bayes rule, i.e. we can calculate the next state distribution\n",
    "\n",
    "$$\\pi_{t+1}(j) = \\sum_{i=1}^M{A(i,j)\\pi_t(i)}$$\n",
    "$$\\pi_{t+1} = \\pi_tA$$\n",
    "\n",
    "- we can predict the state *k* steps into the future\n",
    "\n",
    "$$\\pi_{t+k} = \\pi_tA^k$$\n"
   ]
  },
  {
   "cell_type": "markdown",
   "metadata": {},
   "source": [
    "- each web page on internet is modelled as a state in a Markov Model\n",
    "- we model transition probability using links on a page\n",
    "\n",
    "$$p(x_t = j \\mid x_{t-1} = i) = \\frac{1}{n(i)} \\text{if i links to j, otw 0}$$\n",
    "\n",
    "$$n(i) = # links on page i$$\n",
    "\n",
    "- there are billions of web pages, so very sparse and mostly 0, so smoothing must be applied"
   ]
  },
  {
   "cell_type": "markdown",
   "metadata": {},
   "source": [
    "## Evaluating Rankings\n",
    "\n",
    "- goal is to return list of items sorted by predicted ranking\n",
    "- how can we determine if our predicted ranking is good?\n",
    "- a number of metrics exist, recall, precision, etc, but these are not always the best method because sometimes we need models to explore new items, e.g. novel/surprising items. Users don't always want more of the same\n",
    "- no particular ranking can be \"correct\", we have to instead optimize metrics like revenue, impressions, clicks using A/B tests"
   ]
  }
 ],
 "metadata": {
  "kernelspec": {
   "display_name": "Python 3",
   "language": "python",
   "name": "python3"
  },
  "language_info": {
   "codemirror_mode": {
    "name": "ipython",
    "version": 3
   },
   "file_extension": ".py",
   "mimetype": "text/x-python",
   "name": "python",
   "nbconvert_exporter": "python",
   "pygments_lexer": "ipython3",
   "version": "3.6.9"
  }
 },
 "nbformat": 4,
 "nbformat_minor": 4
}
