{
 "cells": [
  {
   "cell_type": "markdown",
   "metadata": {},
   "source": [
    "# Item-Item Collaborative Filtering\n",
    "\n",
    "Recommends items for a user because this user has liked similar items in the past.\n",
    "\n",
    "Intuition: Batmann and X-Men received similar ratings from Alice, Bob, and Carol. Therefore, they must be similar. Star Wars also received similar ratings, therefore we can predict that Bob will like Star Wars.\n",
    "\n",
    "![alt text](user-user-example.png)\n",
    "\n",
    "Mathematically equivalent to User-User CF, just rotate the user-item matrix 90 deg.\n",
    "\n",
    "Note: Many concepts are identical to User-User CF and therefore excluded from this section. It's recommended to begin with the User-User section."
   ]
  },
  {
   "cell_type": "markdown",
   "metadata": {},
   "source": [
    "## Item-Item Similarity\n",
    "\n",
    "$$w_{jj'} = \\frac\n",
    "    {\\sum_{i \\in \\Omega_{jj'}}({r_{ij}-\\bar{r}_j)(r_{ij'}-\\bar{r}_{j'})}}\n",
    "    {\n",
    "        \\sqrt{\\sum_{i \\in \\Omega{jj'}}{(r_{ij}-\\bar{r}_j)^2}}\n",
    "        \\sqrt{\\sum_{i \\in \\Omega{jj'}}{(r_{ij'}-\\bar{r}_{j'})^2}}\n",
    "    }\n",
    "$$\n",
    "\n",
    "$$\\Omega{j} = \\text{users who rated item j}$$\n",
    "\n",
    "$$\\Omega{jj'} = \\text{users who rated item j and item j'}$$\n",
    "\n",
    "$$\\bar{r}_j = \\text{average rating for item j}$$"
   ]
  },
  {
   "cell_type": "markdown",
   "metadata": {},
   "source": [
    "## Item Score\n",
    "\n",
    "Similar to User-User CF, we consider the deviation of a user's rating from the item's average rating and we weight user deviations using item similarity.\n",
    "\n",
    "$$\n",
    "s(i,j) = \\bar{r}_j +\n",
    "    \\frac\n",
    "        {\\sum_{j' \\in \\Psi_i}{w_{jj'}(r_{ij'} - \\bar{r}_{j'})}}\n",
    "        {\\sum_{j' \\in \\Psi_i}{\\mid w_{jj'} \\mid}}\n",
    "$$\n",
    "\n",
    "$$\\Psi_i = \\text{items user i has rated}$$"
   ]
  },
  {
   "cell_type": "markdown",
   "metadata": {},
   "source": [
    "## Practical Differences\n",
    "\n",
    "When comparing two items there is a lot more data then when comparing two users. This is because a single item has more users associated to it then a user would have items associated with.\n",
    "\n",
    "Item-Based CF tends to be significantly faster because $\\mid items \\mid << \\mid users \\mid$.\n",
    "\n",
    "With Item-Based CF, computing scores for a given user is $O(M^2N)$.\n",
    "\n",
    "FOr User-Based CF, computing scores takes $O(N^2M)$.\n",
    "\n",
    "Therefore, Item-Based CF tends to be significantly faster, because M << N.\n",
    "\n",
    "To speed up computation for Item-Based CF we should only consider the most similar items, e.g. 20 nearest items based on $w_{jj'}$."
   ]
  },
  {
   "cell_type": "markdown",
   "metadata": {},
   "source": [
    "## Higher Accuracy\n",
    "\n",
    "Item-Based CF generally outperforms User-Based CF based on MSE criteria.\n",
    "\n",
    "This is not always good though! If we only recommend user's items that are near identical to other items they've purchased, there is no concept of novel or surprising items."
   ]
  }
 ],
 "metadata": {
  "kernelspec": {
   "display_name": "Python 3",
   "language": "python",
   "name": "python3"
  },
  "language_info": {
   "codemirror_mode": {
    "name": "ipython",
    "version": 3
   },
   "file_extension": ".py",
   "mimetype": "text/x-python",
   "name": "python",
   "nbconvert_exporter": "python",
   "pygments_lexer": "ipython3",
   "version": "3.6.9"
  }
 },
 "nbformat": 4,
 "nbformat_minor": 4
}
