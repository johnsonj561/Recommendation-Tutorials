{
 "cells": [
  {
   "cell_type": "markdown",
   "metadata": {},
   "source": [
    "# User-User Collaborative Filtering\n",
    "\n",
    "We use groups of similar users to make recommendations for a given user."
   ]
  },
  {
   "cell_type": "markdown",
   "metadata": {},
   "source": [
    "![alt text](images/user-user-example.png)"
   ]
  },
  {
   "cell_type": "markdown",
   "metadata": {},
   "source": [
    "Bob and Alice's ratings are highly correlated.\n",
    "\n",
    "So we can use Alice's rating for Star Wars to predict Bob's rating for Star Wars."
   ]
  },
  {
   "cell_type": "markdown",
   "metadata": {},
   "source": [
    "## Average Rating\n",
    "\n",
    "Recall that the average rating is computed across all users who have rated an item.\n",
    "\n",
    "It does not consider similarity between users.\n",
    "\n",
    "$$s(i,j) = \\frac{\\sum_{i' \\in \\Omega_j}{r_{i'j}}}{\\mid \\Omega_j \\mid}$$\n",
    "\n",
    "We can improve on this by weighting each rating, where weights are a function of user similarity."
   ]
  },
  {
   "cell_type": "markdown",
   "metadata": {},
   "source": [
    "## Weighted Ratings\n",
    "\n",
    "We want to down weight ratings from users that I disagree with, and increase the weight for users that are very similar to me.\n",
    "\n",
    "$$s(i,j) = \\frac{\\sum_{i' \\in \\Omega_j}{w_{ii'}r_{i'j}}}{\\sum_{i' \\in \\Omega_j}{w_{ii'}}}$$\n",
    "\n",
    "$$r_{i'j} = \\text{rating that user i' gives to item j}$$\n",
    "$$w_{ii'} = \\text{weight between user i' and user i (high for similar users)}$$"
   ]
  },
  {
   "cell_type": "markdown",
   "metadata": {},
   "source": [
    "## Deviation\n",
    "\n",
    "Users can be optimistic or pessimistic, and in general rate movies on different scales.\n",
    "\n",
    "We can determine a user's *bias* with their overall average rating score. Users that tend to rate movies optimistically will have a higher average than those who are pessimistic.\n",
    "\n",
    "We then use the bias to compute a ratings deviation from the user average.\n",
    "\n",
    "$$dev(i,j) = r(i,j) - \\bar{r}_i ,\\text{for a known rating}$$\n",
    "\n",
    "In other words, we normalize ratings by subtracting user mean ratings.\n",
    "\n",
    "Our goal now is to predict user *i* deviation for item *j*.\n",
    "\n",
    "$$\n",
    "\\hat{dev}(i,j) = \\frac{1}{\\mid \\Omega_j \\mid}\n",
    "\\sum_{i' \\in \\Omega_j}{r(i',j) - \\bar{r}_{i'}}\n",
    "$$\n",
    "\n",
    "We can then score each item *j* using the average rating for user *i* and the predicted deviation for user *i* and item *j*.\n",
    "\n",
    "$$\n",
    "s(i,j) = \\bar{r}_i + \\hat{dev}(i,j)\n",
    "$$\n",
    "\n",
    "We do not need to add the bias $\\bar{r}_i$ back to the score, however, since it is constant across a given user. Instead, we can just sort items by their predicted deviations."
   ]
  },
  {
   "cell_type": "markdown",
   "metadata": {},
   "source": [
    "## Combining Weights and Deviations\n",
    "\n",
    "Recall that we want to weight scores using user similarities. We can combine the weighting scheme with the deviations.\n",
    "\n",
    "We are now using absolute value of weight to normalize scores because weights can be negative.\n",
    "\n",
    "$$\n",
    "s(i,j) = \\bar{r}_i +\n",
    "    \\frac\n",
    "        {\\sum_{i' \\in \\Omega_j}{w_{ii'}(r_{i'j} - \\bar{r}_{i'})}}\n",
    "        {\\sum_{i' \\in \\Omega_j}{\\mid w_{ii'} \\mid}}\n",
    "$$"
   ]
  },
  {
   "cell_type": "markdown",
   "metadata": {},
   "source": [
    "## Calculating the User Similarity Weights\n",
    "\n",
    "We use Pearson correlation, but we only consider mutually rated items.\n",
    "\n",
    "$$w_{ii'} = \\frac\n",
    "    {\\sum_{j \\in \\psi_{ii'}}({r_{ij}-\\bar{r}_i)(r_{i'j}-\\bar{r}_{i'})}}\n",
    "    {\n",
    "        \\sqrt{\\sum_{j \\in \\psi_{ii'}}{(r_{ij}-\\bar{r}_i)^2}}\n",
    "        \\sqrt{\\sum_{j \\in \\psi_{ii'}}{(r_{i'j}-\\bar{r}_{i'})^2}}\n",
    "    }\n",
    "$$\n",
    "\n",
    "$$\\psi_{i} = \\text{set of movies that user i has rated}$$\n",
    "\n",
    "$$\\psi_{ii'} = \\text{set of movies both user i and i' have rated}$$\n",
    "\n",
    "$$\\psi_{ii'} = \\psi_i \\cap \\psi_{i'}$$\n",
    "\n",
    "Cosine similarity is another method for comparing vectors. Since we are using deviations, not averages, cosine similarity and Pearson correlation end up being equivalent."
   ]
  },
  {
   "cell_type": "code",
   "execution_count": null,
   "metadata": {},
   "outputs": [],
   "source": []
  }
 ],
 "metadata": {
  "kernelspec": {
   "display_name": "Python 3",
   "language": "python",
   "name": "python3"
  },
  "language_info": {
   "codemirror_mode": {
    "name": "ipython",
    "version": 3
   },
   "file_extension": ".py",
   "mimetype": "text/x-python",
   "name": "python",
   "nbconvert_exporter": "python",
   "pygments_lexer": "ipython3",
   "version": "3.6.9"
  }
 },
 "nbformat": 4,
 "nbformat_minor": 4
}
