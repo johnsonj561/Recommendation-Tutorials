{
 "cells": [
  {
   "cell_type": "markdown",
   "metadata": {},
   "source": [
    "## Vectorized Matrix Factorization\n",
    "\n",
    "This implementation is identical to matrix-factorization-ex1.ipynb, but we will use NumPy vectors to significantly improve efficiency and decrease training time. Remember that NumPy provides optimized data structures for multi-dimensional arrays and efficient methods for operating on this data."
   ]
  },
  {
   "cell_type": "code",
   "execution_count": 1,
   "metadata": {},
   "outputs": [],
   "source": [
    "import pandas as pd\n",
    "import numpy as np\n",
    "from collections import Counter\n",
    "from sklearn.utils import shuffle"
   ]
  },
  {
   "cell_type": "markdown",
   "metadata": {},
   "source": [
    "## Load Data"
   ]
  },
  {
   "cell_type": "code",
   "execution_count": 2,
   "metadata": {},
   "outputs": [
    {
     "data": {
      "text/plain": [
       "(20000263, 4)"
      ]
     },
     "execution_count": 2,
     "metadata": {},
     "output_type": "execute_result"
    }
   ],
   "source": [
    "# edited_rating.csv is created in the user-user-cf-example.ipynb\n",
    "ratings = pd.read_csv('../../data/movielens/edited_rating.csv')\n",
    "ratings.shape"
   ]
  },
  {
   "cell_type": "code",
   "execution_count": 3,
   "metadata": {},
   "outputs": [
    {
     "data": {
      "text/html": [
       "<div>\n",
       "<style scoped>\n",
       "    .dataframe tbody tr th:only-of-type {\n",
       "        vertical-align: middle;\n",
       "    }\n",
       "\n",
       "    .dataframe tbody tr th {\n",
       "        vertical-align: top;\n",
       "    }\n",
       "\n",
       "    .dataframe thead th {\n",
       "        text-align: right;\n",
       "    }\n",
       "</style>\n",
       "<table border=\"1\" class=\"dataframe\">\n",
       "  <thead>\n",
       "    <tr style=\"text-align: right;\">\n",
       "      <th></th>\n",
       "      <th>userId</th>\n",
       "      <th>movieId</th>\n",
       "      <th>rating</th>\n",
       "      <th>movie_idx</th>\n",
       "    </tr>\n",
       "  </thead>\n",
       "  <tbody>\n",
       "    <tr>\n",
       "      <th>0</th>\n",
       "      <td>0</td>\n",
       "      <td>2</td>\n",
       "      <td>3.5</td>\n",
       "      <td>2</td>\n",
       "    </tr>\n",
       "    <tr>\n",
       "      <th>1</th>\n",
       "      <td>0</td>\n",
       "      <td>29</td>\n",
       "      <td>3.5</td>\n",
       "      <td>29</td>\n",
       "    </tr>\n",
       "  </tbody>\n",
       "</table>\n",
       "</div>"
      ],
      "text/plain": [
       "   userId  movieId  rating  movie_idx\n",
       "0       0        2     3.5          2\n",
       "1       0       29     3.5         29"
      ]
     },
     "execution_count": 3,
     "metadata": {},
     "output_type": "execute_result"
    }
   ],
   "source": [
    "ratings.head(2)"
   ]
  },
  {
   "cell_type": "markdown",
   "metadata": {},
   "source": [
    "### Take a Subset of Data\n",
    "\n",
    "Since computation is significantly faster in vector form, we will use a slightly larger subset.\n",
    "\n",
    "Then we can compare results to previous experiments, and determine if additional data improved our test set MSE."
   ]
  },
  {
   "cell_type": "code",
   "execution_count": 6,
   "metadata": {},
   "outputs": [
    {
     "name": "stdout",
     "output_type": "stream",
     "text": [
      "Original data: 138493 users, 26744 movies\n"
     ]
    }
   ],
   "source": [
    "N = ratings.userId.max() + 1\n",
    "M = ratings.movie_idx.max() + 1\n",
    "print(f'Original data: {N} users, {M} movies')"
   ]
  },
  {
   "cell_type": "code",
   "execution_count": 7,
   "metadata": {},
   "outputs": [
    {
     "name": "stdout",
     "output_type": "stream",
     "text": [
      "Taking a sample with the top 10000 users and the top 4000 movies\n"
     ]
    }
   ],
   "source": [
    "n = 10000\n",
    "m = 4000\n",
    "print(f'Taking a sample with the top {n} users and the top {m} movies')"
   ]
  },
  {
   "cell_type": "code",
   "execution_count": 8,
   "metadata": {},
   "outputs": [
    {
     "name": "stdout",
     "output_type": "stream",
     "text": [
      "Subset of data has shape (6678949, 4)\n"
     ]
    }
   ],
   "source": [
    "# identify the top n userIds and top m movieIds\n",
    "\n",
    "user_counter = Counter(ratings.userId)\n",
    "movie_counter = Counter(ratings.movie_idx)\n",
    "\n",
    "top_users = [user for (user, count) in user_counter.most_common(n)]\n",
    "top_movies = [movie for (movie, count) in movie_counter.most_common(m)]\n",
    "\n",
    "mask = (ratings.userId.isin(top_users)) & (ratings.movie_idx.isin(top_movies))\n",
    "\n",
    "df = ratings.loc[mask]\n",
    "\n",
    "print(f'Subset of data has shape {df.shape}')"
   ]
  },
  {
   "cell_type": "code",
   "execution_count": 9,
   "metadata": {},
   "outputs": [
    {
     "name": "stderr",
     "output_type": "stream",
     "text": [
      "/Users/jujohnson/anaconda3/envs/tf.latest/lib/python3.6/site-packages/pandas/core/indexing.py:480: SettingWithCopyWarning: \n",
      "A value is trying to be set on a copy of a slice from a DataFrame.\n",
      "Try using .loc[row_indexer,col_indexer] = value instead\n",
      "\n",
      "See the caveats in the documentation: http://pandas.pydata.org/pandas-docs/stable/user_guide/indexing.html#returning-a-view-versus-a-copy\n",
      "  self.obj[item] = s\n"
     ]
    }
   ],
   "source": [
    "# re-define user and movie id mappings\n",
    "\n",
    "new_user_ids = {}\n",
    "i = 0\n",
    "for old in top_users:\n",
    "    new_user_ids[old] = i\n",
    "    i += 1\n",
    "    \n",
    "df.loc[:, 'userId'] = df.apply(lambda row: new_user_ids[row.userId], axis=1)\n",
    "\n",
    "\n",
    "new_movie_ids = {}\n",
    "j = 0\n",
    "for old in top_movies:\n",
    "    new_movie_ids[old] = j\n",
    "    j += 1\n",
    "\n",
    "df.loc[:, 'movie_idx'] = df.apply(lambda row: new_movie_ids[row.movie_idx], axis=1)"
   ]
  },
  {
   "cell_type": "markdown",
   "metadata": {},
   "source": [
    "## Create Train/ Test Split"
   ]
  },
  {
   "cell_type": "code",
   "execution_count": 10,
   "metadata": {},
   "outputs": [],
   "source": [
    "N = df.userId.max() + 1\n",
    "M = df.movie_idx.max() + 1\n",
    "\n",
    "df = shuffle(df)\n",
    "\n",
    "cutoff = int(0.8*len(df))\n",
    "\n",
    "df_train = df.iloc[:cutoff]\n",
    "df_test = df.iloc[cutoff:]"
   ]
  },
  {
   "cell_type": "code",
   "execution_count": 11,
   "metadata": {},
   "outputs": [
    {
     "name": "stdout",
     "output_type": "stream",
     "text": [
      "Training set shape (5343159, 4)\n",
      "Test set shape (1335790, 4)\n"
     ]
    }
   ],
   "source": [
    "print(f'Training set shape {df_train.shape}')\n",
    "print(f'Test set shape {df_test.shape}')"
   ]
  },
  {
   "cell_type": "markdown",
   "metadata": {},
   "source": [
    "## Create Data Structures for Train / Test"
   ]
  },
  {
   "cell_type": "code",
   "execution_count": null,
   "metadata": {},
   "outputs": [],
   "source": [
    "# map users -> list of movies ated\n",
    "user2movie = {}\n",
    "\n",
    "# map movies -> list of users who have rated\n",
    "movie2user = {}\n",
    "\n",
    "# map user-movie pairs -> ratings\n",
    "usermovie2rating = {}\n",
    "\n",
    "for counter, (idx, row) in enumerate(df_train.iterrows()):\n",
    "    if counter % 1e5 == 0:\n",
    "        print(f'Processing {counter}')\n",
    "        \n",
    "    userId, movieId, rating, movie_idx = row\n",
    "    userId, movieId, movie_idx = int(userId), int(movieId), int(movie_idx)\n",
    "\n",
    "    usermovie2rating[(userId, movie_idx)] = rating\n",
    "\n",
    "    if userId not in user2movie:\n",
    "        user2movie[userId] = []\n",
    "    user2movie[userId].append(movie_idx)\n",
    "\n",
    "    if movie_idx not in movie2user:\n",
    "        movie2user[movie_idx] = []\n",
    "    movie2user[movie_idx].append(userId)"
   ]
  },
  {
   "cell_type": "code",
   "execution_count": null,
   "metadata": {},
   "outputs": [],
   "source": [
    "# map user-movie pairs -> ratings\n",
    "usermovie2rating_test = {}\n",
    "\n",
    "for counter, (idx, row) in enumerate(df_test.iterrows()):\n",
    "    if counter % 1e5 == 0:\n",
    "        print(f'Processing {counter}')\n",
    "    userId, movieId, rating, movie_idx = row\n",
    "    userId, movieId, movie_idx = int(userId), int(movieId), int(movie_idx)\n",
    "    usermovie2rating_test[(userId, movie_idx)] = rating"
   ]
  },
  {
   "cell_type": "markdown",
   "metadata": {},
   "source": [
    "We introduce one new data structure in order to allow for vectorized computation.\n",
    "\n",
    "This new dictionary will map each user to a vector of (movieId, rating) pairs, so that we can easily look up all movies rated by user *i*."
   ]
  },
  {
   "cell_type": "code",
   "execution_count": 58,
   "metadata": {},
   "outputs": [
    {
     "name": "stdout",
     "output_type": "stream",
     "text": [
      "Train set finished\n",
      "Test set finished\n"
     ]
    }
   ],
   "source": [
    "# new data structs for training data\n",
    "user2movierating = {}\n",
    "for user, movies in user2movie.items():\n",
    "    rating = np.array([usermovie2rating[(user, movie)] for movie in movies])\n",
    "    user2movierating[user] = (movies, rating)\n",
    "movie2userrating = {}\n",
    "for movie, users in movie2user.items():\n",
    "    rating = np.array([usermovie2rating[(user, movie)] for user in users])\n",
    "    movie2userrating[movie] = (users, rating)\n",
    "\n",
    "print('Train set finished')\n",
    "\n",
    "# new data structs for test set - will speed up MSE calculation\n",
    "movie2userrating_test = {}\n",
    "for (user, movie), rating in usermovie2rating_test.items():\n",
    "    if movie not in movie2userrating_test:\n",
    "        movie2userrating_test[movie] = [[user], [rating]]\n",
    "    else:\n",
    "        movie2userrating_test[movie][0].append(user)\n",
    "        movie2userrating_test[movie][1].append(rating)\n",
    "for movie, (users, rating) in movie2userrating_test.items():\n",
    "    movie2userrating_test[movie][1] = np.array(rating)\n",
    "    \n",
    "print('Test set finished')"
   ]
  },
  {
   "cell_type": "markdown",
   "metadata": {},
   "source": [
    "## Initialize Params"
   ]
  },
  {
   "cell_type": "code",
   "execution_count": 59,
   "metadata": {},
   "outputs": [
    {
     "name": "stdout",
     "output_type": "stream",
     "text": [
      "N: 10000, M: 4000\n"
     ]
    }
   ],
   "source": [
    "N = int(np.max(list(user2movie.keys())) + 1)\n",
    "\n",
    "# the test set may contain movies the train set doesn't have data on\n",
    "m1 = np.max(list(movie2user.keys()))\n",
    "m2 = np.max([m for (u, m), r in usermovie2rating_test.items()])\n",
    "M = int(max(m1, m2) + 1)\n",
    "\n",
    "print(f'N: {N}, M: {M}')"
   ]
  },
  {
   "cell_type": "code",
   "execution_count": 60,
   "metadata": {},
   "outputs": [],
   "source": [
    "# K latent dimensions\n",
    "K = 10\n",
    "\n",
    "# Item matrix and bias \n",
    "W = np.random.randn(N, K)\n",
    "b = np.zeros(N)\n",
    "\n",
    "# User matrix and bias\n",
    "U = np.random.randn(M, K)\n",
    "c = np.zeros(M)\n",
    "\n",
    "mu = np.mean(list(usermovie2rating.values()))"
   ]
  },
  {
   "cell_type": "markdown",
   "metadata": {},
   "source": [
    "## Define Loss"
   ]
  },
  {
   "cell_type": "code",
   "execution_count": 61,
   "metadata": {},
   "outputs": [],
   "source": [
    "def get_mse(movie2userratings):\n",
    "    '''\n",
    "    d: movie2userratings dictionary\n",
    "    movie_id -> (user_ids, ratings)\n",
    "    '''\n",
    "    N = 0\n",
    "    sse = 0\n",
    "    for movie, (users, ratings) in movie2userratings.items():\n",
    "        predictions = W[users].dot(U[movie]) + b[users] + c[movie] + mu\n",
    "        delta = predictions - ratings\n",
    "        sse += delta.dot(delta)\n",
    "        N += len(ratings)\n",
    "    return sse / N"
   ]
  },
  {
   "cell_type": "markdown",
   "metadata": {},
   "source": [
    "## Train Model"
   ]
  },
  {
   "cell_type": "code",
   "execution_count": 62,
   "metadata": {},
   "outputs": [],
   "source": [
    "from datetime import datetime"
   ]
  },
  {
   "cell_type": "code",
   "execution_count": null,
   "metadata": {},
   "outputs": [],
   "source": [
    "epochs = 25\n",
    "reg_penalty = 20\n",
    "\n",
    "train_losses = []\n",
    "test_losses = []\n",
    "\n",
    "for epoch in range(epochs):\n",
    "    print(f'Starting epoch {epoch}')\n",
    "    \n",
    "    epoch_start = datetime.now()\n",
    "    \n",
    "    # update W and b\n",
    "    t0 = datetime.now()\n",
    "    # for each user\n",
    "    for userId in range(N):\n",
    "        movies, rating = user2movierating[userId]\n",
    "        # update W and b\n",
    "        matrix = U[movies].T.dot(U[movies]) + np.eye(K)*reg_penalty\n",
    "        vector = (rating - b[userId] - c[movies] - mu).dot(U[movies])\n",
    "        bi = (rating - U[movies].dot(W[userId]) - c[movies]- mu).sum()\n",
    "        \n",
    "        W[userId] = np.linalg.solve(matrix, vector)\n",
    "        b[userId] = bi / (len(user2movie[userId]) + reg_penalty)\n",
    "        \n",
    "        if userId % (N//10) == 0:\n",
    "            print(f'userId: {userId}, N: {N}')\n",
    "\n",
    "    print(f'Updated W and b in {datetime.now() - t0}')\n",
    "    \n",
    "\n",
    "    # update U and c \n",
    "    t0 = datetime.now()\n",
    "    for movieId in range(M):\n",
    "        try:\n",
    "            userIds, ratings = movie2userrating[movieId]\n",
    "            matrix = W[userIds].T.dot(W[userIds]) + np.eye(K) + reg_penalty\n",
    "            vector = (ratings - b[userIds] - c[movieId] - mu).dot(W[userIds])\n",
    "            cj = (ratings - W[userIds].dot(U[movieId]) - b[userIds] - mu).sum()\n",
    "            \n",
    "            U[movieId] = np.linalg.solve(matrix, vector)\n",
    "            c[movieId] = cj / (len(movie2user[movieId]) + reg_penalty)\n",
    "\n",
    "            if movieId % (M//10) == 0:\n",
    "                print(f'movieId: {movieId}, M: {N}')\n",
    "        except KeyError:\n",
    "            pass\n",
    "\n",
    "    print(f'Upated U and c in {datetime.now() - t0}')\n",
    "    print(f'Epoch time: {datetime.now() - epoch_start}')\n",
    "    \n",
    "    \n",
    "    t0 = datetime.now()\n",
    "    train_losses.append(get_mse(movie2userrating))\n",
    "    print(f'Loss time: {datetime.now() - t0}')\n",
    "    print(f'Train loss: {train_losses[-1]}')\n",
    "    test_losses.append(get_mse(movie2userrating_test))\n",
    "    print(f'Test loss: {test_losses[-1]}')"
   ]
  },
  {
   "cell_type": "markdown",
   "metadata": {},
   "source": [
    "## Plot Loss"
   ]
  },
  {
   "cell_type": "code",
   "execution_count": 64,
   "metadata": {},
   "outputs": [],
   "source": [
    "import matplotlib.pyplot as plt"
   ]
  },
  {
   "cell_type": "code",
   "execution_count": 65,
   "metadata": {},
   "outputs": [
    {
     "data": {
      "image/png": "[encoded data removed]",
      "text/plain": [
       "<Figure size 432x288 with 1 Axes>"
      ]
     },
     "metadata": {
      "needs_background": "light"
     },
     "output_type": "display_data"
    }
   ],
   "source": [
    "plt.plot(train_losses, label='Training Loss');\n",
    "plt.plot(test_losses, label='Test Loss');\n",
    "plt.legend()\n",
    "plt.show()"
   ]
  },
  {
   "cell_type": "markdown",
   "metadata": {},
   "source": [
    "We can see that these results are much better than previous matrix factorization results. This is because we have more than doubled the size of our training set.\n",
    "\n",
    "We were able to increase training set because computation is much more efficient in vectorized form. Thanks NumPy."
   ]
  }
 ],
 "metadata": {
  "kernelspec": {
   "display_name": "Python 3",
   "language": "python",
   "name": "python3"
  },
  "language_info": {
   "codemirror_mode": {
    "name": "ipython",
    "version": 3
   },
   "file_extension": ".py",
   "mimetype": "text/x-python",
   "name": "python",
   "nbconvert_exporter": "python",
   "pygments_lexer": "ipython3",
   "version": "3.6.9"
  }
 },
 "nbformat": 4,
 "nbformat_minor": 4
}
